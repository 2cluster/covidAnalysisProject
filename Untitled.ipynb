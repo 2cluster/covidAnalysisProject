{
 "cells": [
  {
   "cell_type": "code",
   "execution_count": 48,
   "metadata": {},
   "outputs": [],
   "source": [
    "# data analysis and wrangling\n",
    "import pandas as pd\n",
    "import numpy as np\n",
    "import random as rnd\n",
    "\n",
    "# visualization\n",
    "import seaborn as sns\n",
    "import matplotlib.pyplot as plt\n",
    "import plotly.express as px\n",
    "%matplotlib inline\n",
    "\n",
    "# machine learning\n",
    "from sklearn.linear_model import LogisticRegression\n",
    "from sklearn.svm import SVC, LinearSVC\n",
    "from sklearn.ensemble import RandomForestClassifier\n",
    "from sklearn.neighbors import KNeighborsClassifier\n",
    "from sklearn.naive_bayes import GaussianNB\n",
    "from sklearn.linear_model import Perceptron\n",
    "from sklearn.linear_model import SGDClassifier\n",
    "from sklearn.tree import DecisionTreeClassifier"
   ]
  },
  {
   "cell_type": "code",
   "execution_count": 49,
   "metadata": {},
   "outputs": [],
   "source": [
    "# Set ipython's max row display\n",
    "pd.set_option('display.max_row', 1000)\n",
    "\n",
    "# Set iPython's max column width to 50\n",
    "pd.set_option('display.max_columns', 50)"
   ]
  },
  {
   "cell_type": "code",
   "execution_count": 50,
   "metadata": {},
   "outputs": [],
   "source": [
    "# data import\n",
    "train_df = pd.read_csv('./data/train.csv')\n",
    "test_df  = pd.read_csv('./data/test.csv')\n",
    "subs_df  = pd.read_csv('./data/submission.csv')"
   ]
  },
  {
   "cell_type": "code",
   "execution_count": 51,
   "metadata": {},
   "outputs": [],
   "source": [
    "# replace location-columns by unique indentifiers \n",
    "train_df = train_df.replace(np.nan, '', regex=True)\n",
    "train_df['location_id'] = train_df['Country_Region'] + \" - \" + train_df['Province_State'] + \" - \" + train_df['County']\n",
    "train_df = train_df.drop(['Province_State','County','Country_Region','Id'], axis=1)"
   ]
  },
  {
   "cell_type": "code",
   "execution_count": 55,
   "metadata": {},
   "outputs": [
    {
     "name": "stdout",
     "output_type": "stream",
     "text": [
      "        Population    Weight        Date          Target  TargetValue  \\\n",
      "0         27657145  0.058359  2020-01-23  ConfirmedCases          0.0   \n",
      "1         27657145  0.583587  2020-01-23      Fatalities          0.0   \n",
      "2         27657145  0.058359  2020-01-24  ConfirmedCases          0.0   \n",
      "3         27657145  0.583587  2020-01-24      Fatalities          0.0   \n",
      "4         27657145  0.058359  2020-01-25  ConfirmedCases          0.0   \n",
      "...            ...       ...         ...             ...          ...   \n",
      "810337    14240168  0.607106  2020-05-16      Fatalities          0.0   \n",
      "810338    14240168  0.060711  2020-05-17  ConfirmedCases          2.0   \n",
      "810339    14240168  0.607106  2020-05-17      Fatalities          0.0   \n",
      "810340    14240168  0.060711  2020-05-18  ConfirmedCases          2.0   \n",
      "810341    14240168  0.607106  2020-05-18      Fatalities          0.0   \n",
      "\n",
      "              location_id  \n",
      "0       Afghanistan -  -   \n",
      "1       Afghanistan -  -   \n",
      "2       Afghanistan -  -   \n",
      "3       Afghanistan -  -   \n",
      "4       Afghanistan -  -   \n",
      "...                   ...  \n",
      "810337     Zimbabwe -  -   \n",
      "810338     Zimbabwe -  -   \n",
      "810339     Zimbabwe -  -   \n",
      "810340     Zimbabwe -  -   \n",
      "810341     Zimbabwe -  -   \n",
      "\n",
      "[810342 rows x 6 columns]\n"
     ]
    }
   ],
   "source": [
    "print(train_df)\n"
   ]
  },
  {
   "cell_type": "code",
   "execution_count": 53,
   "metadata": {},
   "outputs": [
    {
     "ename": "AttributeError",
     "evalue": "'dict' object has no attribute 'replace'",
     "output_type": "error",
     "traceback": [
      "\u001b[0;31m---------------------------------------------------------------------------\u001b[0m",
      "\u001b[0;31mAttributeError\u001b[0m                            Traceback (most recent call last)",
      "\u001b[0;32m<ipython-input-53-23297f582e25>\u001b[0m in \u001b[0;36m<module>\u001b[0;34m\u001b[0m\n\u001b[0;32m----> 1\u001b[0;31m \u001b[0mtrain_df\u001b[0m\u001b[0;34m[\u001b[0m\u001b[0;34m\"Date\"\u001b[0m\u001b[0;34m]\u001b[0m\u001b[0;34m=\u001b[0m \u001b[0mtrain_df\u001b[0m\u001b[0;34m[\u001b[0m\u001b[0;34m\"Date\"\u001b[0m\u001b[0;34m]\u001b[0m\u001b[0;34m.\u001b[0m\u001b[0mmap\u001b[0m\u001b[0;34m(\u001b[0m\u001b[0;34m{\u001b[0m\u001b[0;34m}\u001b[0m\u001b[0;34m.\u001b[0m\u001b[0mreplace\u001b[0m\u001b[0;34m(\u001b[0m\u001b[0;34m\"-\"\u001b[0m\u001b[0;34m,\u001b[0m\u001b[0;34m\"\"\u001b[0m\u001b[0;34m)\u001b[0m\u001b[0;34m)\u001b[0m\u001b[0;34m\u001b[0m\u001b[0;34m\u001b[0m\u001b[0m\n\u001b[0m",
      "\u001b[0;31mAttributeError\u001b[0m: 'dict' object has no attribute 'replace'"
     ]
    }
   ],
   "source": [
    "train_df[\"Date\"]= train_df[\"Date\"].map({}.replace(\"-\",\"\"))"
   ]
  },
  {
   "cell_type": "code",
   "execution_count": null,
   "metadata": {},
   "outputs": [],
   "source": [
    "unique_locations = train_df.location_id.unique()\n",
    "unique_targets = train_df.Target.unique()\n",
    "\n",
    "print(\"There are \"+str(len(unique_locations))+\"\\t unique locations\")\n",
    "print(\"There are \"+str(len(unique_targets))+\"\\t unique Targets\")\n"
   ]
  },
  {
   "cell_type": "code",
   "execution_count": null,
   "metadata": {},
   "outputs": [],
   "source": []
  },
  {
   "cell_type": "code",
   "execution_count": null,
   "metadata": {},
   "outputs": [],
   "source": [
    "for loc in unique_locations:\n",
    "    for tar in unique_targets:\n",
    "        \n",
    "        filter1 = train_df[\"Target\"]==tar\n",
    "        filter2 = train_df[\"location_id\"]==loc\n",
    "        \n",
    "        temp = train_df.where(filter1)\n",
    "        temp = train_df.where(filter2)\n",
    "        \n",
    "        \n",
    "        continue\n"
   ]
  },
  {
   "cell_type": "code",
   "execution_count": null,
   "metadata": {},
   "outputs": [],
   "source": []
  }
 ],
 "metadata": {
  "kernelspec": {
   "display_name": "Python 3",
   "language": "python",
   "name": "python3"
  },
  "language_info": {
   "codemirror_mode": {
    "name": "ipython",
    "version": 3
   },
   "file_extension": ".py",
   "mimetype": "text/x-python",
   "name": "python",
   "nbconvert_exporter": "python",
   "pygments_lexer": "ipython3",
   "version": "3.7.5"
  }
 },
 "nbformat": 4,
 "nbformat_minor": 2
}
